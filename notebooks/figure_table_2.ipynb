{
 "cells": [
  {
   "cell_type": "markdown",
   "metadata": {},
   "source": [
    "## Figure 2 and table 2 reproduction\n",
    "\n",
    "In this notebook, we will reproduce Figure 2, Wasserstein distances between events.   \n",
    "    \n",
    "<img src=\"paper_figures/events_diffs.png\" alt=\"Table 2\" width=\"400\"/>\n",
    "\n",
    "<img src=\"paper_figures/table2.png\" alt=\"Table 2\" width=\"800\"/>"
   ]
  },
  {
   "cell_type": "code",
   "execution_count": 1,
   "metadata": {},
   "outputs": [],
   "source": [
    "import numpy as np\n",
    "import os\n",
    "import re\n",
    "import pandas as pd\n",
    "import ot\n",
    "import plotly.graph_objects as go\n",
    "import itertools\n",
    "from tqdm import tqdm"
   ]
  },
  {
   "cell_type": "code",
   "execution_count": 2,
   "metadata": {},
   "outputs": [],
   "source": [
    "def delete_timestamp(df1, df2):\n",
    "    cols1 = df1.columns\n",
    "    if \"Timestamp\" in cols1:\n",
    "        df1 = df1.drop([\"Timestamp\"], axis=1)\n",
    "\n",
    "    cols2 = df2.columns\n",
    "    if \"Timestamp\" in cols2:\n",
    "        df2 = df2.drop([\"Timestamp\"], axis=1)\n",
    "    return df1, df2\n",
    "\n",
    "def extract_number(filename):\n",
    "    match = re.search(r'(\\d+)', filename)\n",
    "    if match:\n",
    "        return int(match.group(1))\n",
    "    return float('inf')  "
   ]
  },
  {
   "cell_type": "code",
   "execution_count": 3,
   "metadata": {},
   "outputs": [],
   "source": [
    "folder_path = '../data/MESWE-38-processed'\n",
    "file_names = [file_name for file_name in os.listdir(folder_path) if file_name.endswith('.csv')]\n",
    "sorted_csv_file_names = sorted(file_names, key=extract_number)\n",
    "sorted_csv_file_names_numbers = [filename.replace(\"meswe_event_\", \"\").replace(\".csv\", \"\") for filename in sorted_csv_file_names]"
   ]
  },
  {
   "cell_type": "code",
   "execution_count": 4,
   "metadata": {},
   "outputs": [],
   "source": [
    "distance_matrix =  np.zeros((len(sorted_csv_file_names), len(sorted_csv_file_names)))"
   ]
  },
  {
   "cell_type": "code",
   "execution_count": null,
   "metadata": {},
   "outputs": [],
   "source": [
    "\n",
    "for i in range(len(sorted_csv_file_names)):\n",
    "    print(i)\n",
    "    for j in range(len(sorted_csv_file_names)):\n",
    "\n",
    "        #print(f\"{sorted_csv_file_names[i]} - {sorted_csv_file_names[j]}\")\n",
    "\n",
    "        data1 = pd.read_csv(folder_path + \"/\" + sorted_csv_file_names[i])\n",
    "        data2 = pd.read_csv(folder_path + \"/\" + sorted_csv_file_names[j])\n",
    "\n",
    "        data1, data2 = delete_timestamp(data1, data2)\n",
    "\n",
    "        data1_np = data1.values\n",
    "        data2_np = data2.values\n",
    "\n",
    "        M = ot.dist(data1_np, data2_np)\n",
    "\n",
    "        weights_P = np.ones(data1_np.shape[0]) / data1_np.shape[0]\n",
    "        weights_Q = np.ones(data2_np.shape[0]) / data2_np.shape[0]\n",
    "\n",
    "        wasserstein_dist = ot.emd2(weights_P, weights_Q, M)\n",
    "\n",
    "        distance_matrix[i, j] = wasserstein_dist\n",
    "        distance_matrix[j, i] = wasserstein_dist\n",
    "\n",
    "\n"
   ]
  },
  {
   "cell_type": "code",
   "execution_count": 6,
   "metadata": {},
   "outputs": [
    {
     "data": {
      "application/vnd.plotly.v1+json": {
       "config": {
        "plotlyServerURL": "https://plot.ly"
       },
       "data": [
        {
         "colorscale": [
          [
           0,
           "rgb(247,251,255)"
          ],
          [
           0.125,
           "rgb(222,235,247)"
          ],
          [
           0.25,
           "rgb(198,219,239)"
          ],
          [
           0.375,
           "rgb(158,202,225)"
          ],
          [
           0.5,
           "rgb(107,174,214)"
          ],
          [
           0.625,
           "rgb(66,146,198)"
          ],
          [
           0.75,
           "rgb(33,113,181)"
          ],
          [
           0.875,
           "rgb(8,81,156)"
          ],
          [
           1,
           "rgb(8,48,107)"
          ]
         ],
         "hoverinfo": "text",
         "text": {
          "bdata": "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",
          "dtype": "f8",
          "shape": "30, 30"
         },
         "type": "heatmap",
         "x": [
          "1",
          "4",
          "5",
          "6",
          "7",
          "8",
          "9",
          "10",
          "11",
          "12",
          "13",
          "14",
          "15",
          "17",
          "19",
          "21",
          "22",
          "23",
          "25",
          "28",
          "29",
          "30",
          "31",
          "32",
          "33",
          "34",
          "35",
          "36",
          "37",
          "38"
         ],
         "y": [
          "1",
          "4",
          "5",
          "6",
          "7",
          "8",
          "9",
          "10",
          "11",
          "12",
          "13",
          "14",
          "15",
          "17",
          "19",
          "21",
          "22",
          "23",
          "25",
          "28",
          "29",
          "30",
          "31",
          "32",
          "33",
          "34",
          "35",
          "36",
          "37",
          "38"
         ],
         "z": {
          "bdata": "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",
          "dtype": "f8",
          "shape": "30, 30"
         }
        }
       ],
       "layout": {
        "height": 800,
        "template": {
         "data": {
          "bar": [
           {
            "error_x": {
             "color": "#2a3f5f"
            },
            "error_y": {
             "color": "#2a3f5f"
            },
            "marker": {
             "line": {
              "color": "#E5ECF6",
              "width": 0.5
             },
             "pattern": {
              "fillmode": "overlay",
              "size": 10,
              "solidity": 0.2
             }
            },
            "type": "bar"
           }
          ],
          "barpolar": [
           {
            "marker": {
             "line": {
              "color": "#E5ECF6",
              "width": 0.5
             },
             "pattern": {
              "fillmode": "overlay",
              "size": 10,
              "solidity": 0.2
             }
            },
            "type": "barpolar"
           }
          ],
          "carpet": [
           {
            "aaxis": {
             "endlinecolor": "#2a3f5f",
             "gridcolor": "white",
             "linecolor": "white",
             "minorgridcolor": "white",
             "startlinecolor": "#2a3f5f"
            },
            "baxis": {
             "endlinecolor": "#2a3f5f",
             "gridcolor": "white",
             "linecolor": "white",
             "minorgridcolor": "white",
             "startlinecolor": "#2a3f5f"
            },
            "type": "carpet"
           }
          ],
          "choropleth": [
           {
            "colorbar": {
             "outlinewidth": 0,
             "ticks": ""
            },
            "type": "choropleth"
           }
          ],
          "contour": [
           {
            "colorbar": {
             "outlinewidth": 0,
             "ticks": ""
            },
            "colorscale": [
             [
              0,
              "#0d0887"
             ],
             [
              0.1111111111111111,
              "#46039f"
             ],
             [
              0.2222222222222222,
              "#7201a8"
             ],
             [
              0.3333333333333333,
              "#9c179e"
             ],
             [
              0.4444444444444444,
              "#bd3786"
             ],
             [
              0.5555555555555556,
              "#d8576b"
             ],
             [
              0.6666666666666666,
              "#ed7953"
             ],
             [
              0.7777777777777778,
              "#fb9f3a"
             ],
             [
              0.8888888888888888,
              "#fdca26"
             ],
             [
              1,
              "#f0f921"
             ]
            ],
            "type": "contour"
           }
          ],
          "contourcarpet": [
           {
            "colorbar": {
             "outlinewidth": 0,
             "ticks": ""
            },
            "type": "contourcarpet"
           }
          ],
          "heatmap": [
           {
            "colorbar": {
             "outlinewidth": 0,
             "ticks": ""
            },
            "colorscale": [
             [
              0,
              "#0d0887"
             ],
             [
              0.1111111111111111,
              "#46039f"
             ],
             [
              0.2222222222222222,
              "#7201a8"
             ],
             [
              0.3333333333333333,
              "#9c179e"
             ],
             [
              0.4444444444444444,
              "#bd3786"
             ],
             [
              0.5555555555555556,
              "#d8576b"
             ],
             [
              0.6666666666666666,
              "#ed7953"
             ],
             [
              0.7777777777777778,
              "#fb9f3a"
             ],
             [
              0.8888888888888888,
              "#fdca26"
             ],
             [
              1,
              "#f0f921"
             ]
            ],
            "type": "heatmap"
           }
          ],
          "histogram": [
           {
            "marker": {
             "pattern": {
              "fillmode": "overlay",
              "size": 10,
              "solidity": 0.2
             }
            },
            "type": "histogram"
           }
          ],
          "histogram2d": [
           {
            "colorbar": {
             "outlinewidth": 0,
             "ticks": ""
            },
            "colorscale": [
             [
              0,
              "#0d0887"
             ],
             [
              0.1111111111111111,
              "#46039f"
             ],
             [
              0.2222222222222222,
              "#7201a8"
             ],
             [
              0.3333333333333333,
              "#9c179e"
             ],
             [
              0.4444444444444444,
              "#bd3786"
             ],
             [
              0.5555555555555556,
              "#d8576b"
             ],
             [
              0.6666666666666666,
              "#ed7953"
             ],
             [
              0.7777777777777778,
              "#fb9f3a"
             ],
             [
              0.8888888888888888,
              "#fdca26"
             ],
             [
              1,
              "#f0f921"
             ]
            ],
            "type": "histogram2d"
           }
          ],
          "histogram2dcontour": [
           {
            "colorbar": {
             "outlinewidth": 0,
             "ticks": ""
            },
            "colorscale": [
             [
              0,
              "#0d0887"
             ],
             [
              0.1111111111111111,
              "#46039f"
             ],
             [
              0.2222222222222222,
              "#7201a8"
             ],
             [
              0.3333333333333333,
              "#9c179e"
             ],
             [
              0.4444444444444444,
              "#bd3786"
             ],
             [
              0.5555555555555556,
              "#d8576b"
             ],
             [
              0.6666666666666666,
              "#ed7953"
             ],
             [
              0.7777777777777778,
              "#fb9f3a"
             ],
             [
              0.8888888888888888,
              "#fdca26"
             ],
             [
              1,
              "#f0f921"
             ]
            ],
            "type": "histogram2dcontour"
           }
          ],
          "mesh3d": [
           {
            "colorbar": {
             "outlinewidth": 0,
             "ticks": ""
            },
            "type": "mesh3d"
           }
          ],
          "parcoords": [
           {
            "line": {
             "colorbar": {
              "outlinewidth": 0,
              "ticks": ""
             }
            },
            "type": "parcoords"
           }
          ],
          "pie": [
           {
            "automargin": true,
            "type": "pie"
           }
          ],
          "scatter": [
           {
            "fillpattern": {
             "fillmode": "overlay",
             "size": 10,
             "solidity": 0.2
            },
            "type": "scatter"
           }
          ],
          "scatter3d": [
           {
            "line": {
             "colorbar": {
              "outlinewidth": 0,
              "ticks": ""
             }
            },
            "marker": {
             "colorbar": {
              "outlinewidth": 0,
              "ticks": ""
             }
            },
            "type": "scatter3d"
           }
          ],
          "scattercarpet": [
           {
            "marker": {
             "colorbar": {
              "outlinewidth": 0,
              "ticks": ""
             }
            },
            "type": "scattercarpet"
           }
          ],
          "scattergeo": [
           {
            "marker": {
             "colorbar": {
              "outlinewidth": 0,
              "ticks": ""
             }
            },
            "type": "scattergeo"
           }
          ],
          "scattergl": [
           {
            "marker": {
             "colorbar": {
              "outlinewidth": 0,
              "ticks": ""
             }
            },
            "type": "scattergl"
           }
          ],
          "scattermap": [
           {
            "marker": {
             "colorbar": {
              "outlinewidth": 0,
              "ticks": ""
             }
            },
            "type": "scattermap"
           }
          ],
          "scattermapbox": [
           {
            "marker": {
             "colorbar": {
              "outlinewidth": 0,
              "ticks": ""
             }
            },
            "type": "scattermapbox"
           }
          ],
          "scatterpolar": [
           {
            "marker": {
             "colorbar": {
              "outlinewidth": 0,
              "ticks": ""
             }
            },
            "type": "scatterpolar"
           }
          ],
          "scatterpolargl": [
           {
            "marker": {
             "colorbar": {
              "outlinewidth": 0,
              "ticks": ""
             }
            },
            "type": "scatterpolargl"
           }
          ],
          "scatterternary": [
           {
            "marker": {
             "colorbar": {
              "outlinewidth": 0,
              "ticks": ""
             }
            },
            "type": "scatterternary"
           }
          ],
          "surface": [
           {
            "colorbar": {
             "outlinewidth": 0,
             "ticks": ""
            },
            "colorscale": [
             [
              0,
              "#0d0887"
             ],
             [
              0.1111111111111111,
              "#46039f"
             ],
             [
              0.2222222222222222,
              "#7201a8"
             ],
             [
              0.3333333333333333,
              "#9c179e"
             ],
             [
              0.4444444444444444,
              "#bd3786"
             ],
             [
              0.5555555555555556,
              "#d8576b"
             ],
             [
              0.6666666666666666,
              "#ed7953"
             ],
             [
              0.7777777777777778,
              "#fb9f3a"
             ],
             [
              0.8888888888888888,
              "#fdca26"
             ],
             [
              1,
              "#f0f921"
             ]
            ],
            "type": "surface"
           }
          ],
          "table": [
           {
            "cells": {
             "fill": {
              "color": "#EBF0F8"
             },
             "line": {
              "color": "white"
             }
            },
            "header": {
             "fill": {
              "color": "#C8D4E3"
             },
             "line": {
              "color": "white"
             }
            },
            "type": "table"
           }
          ]
         },
         "layout": {
          "annotationdefaults": {
           "arrowcolor": "#2a3f5f",
           "arrowhead": 0,
           "arrowwidth": 1
          },
          "autotypenumbers": "strict",
          "coloraxis": {
           "colorbar": {
            "outlinewidth": 0,
            "ticks": ""
           }
          },
          "colorscale": {
           "diverging": [
            [
             0,
             "#8e0152"
            ],
            [
             0.1,
             "#c51b7d"
            ],
            [
             0.2,
             "#de77ae"
            ],
            [
             0.3,
             "#f1b6da"
            ],
            [
             0.4,
             "#fde0ef"
            ],
            [
             0.5,
             "#f7f7f7"
            ],
            [
             0.6,
             "#e6f5d0"
            ],
            [
             0.7,
             "#b8e186"
            ],
            [
             0.8,
             "#7fbc41"
            ],
            [
             0.9,
             "#4d9221"
            ],
            [
             1,
             "#276419"
            ]
           ],
           "sequential": [
            [
             0,
             "#0d0887"
            ],
            [
             0.1111111111111111,
             "#46039f"
            ],
            [
             0.2222222222222222,
             "#7201a8"
            ],
            [
             0.3333333333333333,
             "#9c179e"
            ],
            [
             0.4444444444444444,
             "#bd3786"
            ],
            [
             0.5555555555555556,
             "#d8576b"
            ],
            [
             0.6666666666666666,
             "#ed7953"
            ],
            [
             0.7777777777777778,
             "#fb9f3a"
            ],
            [
             0.8888888888888888,
             "#fdca26"
            ],
            [
             1,
             "#f0f921"
            ]
           ],
           "sequentialminus": [
            [
             0,
             "#0d0887"
            ],
            [
             0.1111111111111111,
             "#46039f"
            ],
            [
             0.2222222222222222,
             "#7201a8"
            ],
            [
             0.3333333333333333,
             "#9c179e"
            ],
            [
             0.4444444444444444,
             "#bd3786"
            ],
            [
             0.5555555555555556,
             "#d8576b"
            ],
            [
             0.6666666666666666,
             "#ed7953"
            ],
            [
             0.7777777777777778,
             "#fb9f3a"
            ],
            [
             0.8888888888888888,
             "#fdca26"
            ],
            [
             1,
             "#f0f921"
            ]
           ]
          },
          "colorway": [
           "#636efa",
           "#EF553B",
           "#00cc96",
           "#ab63fa",
           "#FFA15A",
           "#19d3f3",
           "#FF6692",
           "#B6E880",
           "#FF97FF",
           "#FECB52"
          ],
          "font": {
           "color": "#2a3f5f"
          },
          "geo": {
           "bgcolor": "white",
           "lakecolor": "white",
           "landcolor": "#E5ECF6",
           "showlakes": true,
           "showland": true,
           "subunitcolor": "white"
          },
          "hoverlabel": {
           "align": "left"
          },
          "hovermode": "closest",
          "mapbox": {
           "style": "light"
          },
          "paper_bgcolor": "white",
          "plot_bgcolor": "#E5ECF6",
          "polar": {
           "angularaxis": {
            "gridcolor": "white",
            "linecolor": "white",
            "ticks": ""
           },
           "bgcolor": "#E5ECF6",
           "radialaxis": {
            "gridcolor": "white",
            "linecolor": "white",
            "ticks": ""
           }
          },
          "scene": {
           "xaxis": {
            "backgroundcolor": "#E5ECF6",
            "gridcolor": "white",
            "gridwidth": 2,
            "linecolor": "white",
            "showbackground": true,
            "ticks": "",
            "zerolinecolor": "white"
           },
           "yaxis": {
            "backgroundcolor": "#E5ECF6",
            "gridcolor": "white",
            "gridwidth": 2,
            "linecolor": "white",
            "showbackground": true,
            "ticks": "",
            "zerolinecolor": "white"
           },
           "zaxis": {
            "backgroundcolor": "#E5ECF6",
            "gridcolor": "white",
            "gridwidth": 2,
            "linecolor": "white",
            "showbackground": true,
            "ticks": "",
            "zerolinecolor": "white"
           }
          },
          "shapedefaults": {
           "line": {
            "color": "#2a3f5f"
           }
          },
          "ternary": {
           "aaxis": {
            "gridcolor": "white",
            "linecolor": "white",
            "ticks": ""
           },
           "baxis": {
            "gridcolor": "white",
            "linecolor": "white",
            "ticks": ""
           },
           "bgcolor": "#E5ECF6",
           "caxis": {
            "gridcolor": "white",
            "linecolor": "white",
            "ticks": ""
           }
          },
          "title": {
           "x": 0.05
          },
          "xaxis": {
           "automargin": true,
           "gridcolor": "white",
           "linecolor": "white",
           "ticks": "",
           "title": {
            "standoff": 15
           },
           "zerolinecolor": "white",
           "zerolinewidth": 2
          },
          "yaxis": {
           "automargin": true,
           "gridcolor": "white",
           "linecolor": "white",
           "ticks": "",
           "title": {
            "standoff": 15
           },
           "zerolinecolor": "white",
           "zerolinewidth": 2
          }
         }
        },
        "title": {
         "text": "Wasserstein Distance Matrix Between Events"
        },
        "width": 800,
        "xaxis": {
         "nticks": 30,
         "title": {
          "text": "Events"
         }
        },
        "yaxis": {
         "nticks": 30,
         "title": {
          "text": "Events"
         }
        }
       }
      }
     },
     "metadata": {},
     "output_type": "display_data"
    }
   ],
   "source": [
    "fig = go.Figure(data=go.Heatmap(\n",
    "        z=distance_matrix,\n",
    "        x=sorted_csv_file_names_numbers,\n",
    "        y=sorted_csv_file_names_numbers,\n",
    "        colorscale='Blues',\n",
    "        text=distance_matrix, \n",
    "        hoverinfo=\"text\"\n",
    "    ))\n",
    "\n",
    "\n",
    "fig.update_layout(\n",
    "    title=\"Wasserstein Distance Matrix Between Events\",\n",
    "    xaxis_title=\"Events\",\n",
    "    yaxis_title=\"Events\",\n",
    "    xaxis_nticks=len(sorted_csv_file_names_numbers),  \n",
    "    yaxis_nticks=len(sorted_csv_file_names_numbers),\n",
    "    width=800,   \n",
    "    height=800   \n",
    ")\n",
    "\n",
    "fig.show()"
   ]
  },
  {
   "cell_type": "markdown",
   "metadata": {},
   "source": [
    "## Table 2 reproduction\n",
    "\n",
    "### Plain Language Instructions\n",
    "1. We obtain Waseterian distance for every event with respect to every other events (basically figure 2)\n",
    "2. WDS(Event) is sum of Waseterian distance of one event with respect to every other events, devided by 100 - just have smaller numbers\n",
    "3. Valid set consists of 3 events, where 1 event is from CIR category, 1 event is from CME category and 1 is from Unclassified category\n",
    "4. Same for test set, test set consists of 3 events, where 1 event is from CIR category, 1 event is from CME category and 1 is from Unclassified category\n",
    "5. Valid Set Diversity (VSD) is sum of WDS(Event) for all events in validation set. If validation set should have events 1,2,3 then VSD(1,2,3) = WDS(1) + WDS(2) + WDS(3)\n",
    "6. Same for test set, Test Set Diversity is sum of WDS(Event) for all events in test set. Same as 5 but for test set.\n",
    "7. Calculate difference of valid set diversity and test set diversity with formula: \"diff = ((test_diversity/val_diversity)*100)-100\"\n",
    "8. Go trough all valid posible combinations of validation-test pairs constructed from evnets and find best 5 pairs with least difference"
   ]
  },
  {
   "cell_type": "code",
   "execution_count": 7,
   "metadata": {},
   "outputs": [],
   "source": [
    "def calculate_event_diversity(event, distances_matrix, events_names_list: list):\n",
    "    column_index = events_names_list.index(str(event))\n",
    "    column_sum = np.sum(distances_matrix[:, column_index])\n",
    "    return column_sum / 100\n",
    "\n",
    "\n",
    "def find_k_fold(val_events: list, test_events: list):\n",
    "    val_event_1_diversity = calculate_event_diversity(val_events[0], distance_matrix, sorted_csv_file_names_numbers)\n",
    "    val_event_2_diversity = calculate_event_diversity(val_events[1], distance_matrix, sorted_csv_file_names_numbers)\n",
    "    val_event_3_diversity = calculate_event_diversity(val_events[2], distance_matrix, sorted_csv_file_names_numbers)\n",
    "\n",
    "    val_diversity = val_event_1_diversity + val_event_2_diversity + val_event_3_diversity\n",
    "\n",
    "    test_event_1_diversity = calculate_event_diversity(test_events[0], distance_matrix, sorted_csv_file_names_numbers)\n",
    "    test_event_2_diversity = calculate_event_diversity(test_events[1], distance_matrix, sorted_csv_file_names_numbers)\n",
    "    test_event_3_diversity = calculate_event_diversity(test_events[2], distance_matrix, sorted_csv_file_names_numbers)\n",
    "\n",
    "    test_diversity = test_event_1_diversity + test_event_2_diversity + test_event_3_diversity\n",
    "\n",
    "    difference = ((test_diversity/val_diversity)*100)-100\n",
    "\n",
    "    return val_diversity, test_diversity, abs(difference)\n"
   ]
  },
  {
   "cell_type": "code",
   "execution_count": 8,
   "metadata": {},
   "outputs": [
    {
     "name": "stdout",
     "output_type": "stream",
     "text": [
      "13058.805523182404\n",
      "12960.324132831578\n",
      "0.7541378128037621\n"
     ]
    }
   ],
   "source": [
    "cir_events = [4, 5, 6, 7, 8, 10, 22, 25, 34, 35, 36, 37, 38]\n",
    "cme_events = [9, 14, 15, 17, 19, 21, 30, 31, 32, 33]\n",
    "idk_events = [1, 11, 12, 13, 23, 28, 29]\n",
    "\n",
    "val_diversity, test_diversity, difference = find_k_fold([31,35,7], [21,10,23])\n",
    "print(val_diversity)\n",
    "print(test_diversity)\n",
    "print(difference)"
   ]
  },
  {
   "cell_type": "code",
   "execution_count": 9,
   "metadata": {},
   "outputs": [
    {
     "name": "stderr",
     "output_type": "stream",
     "text": [
      "100%|█████████▉| 413595/414050.0 [00:05<00:00, 71280.01it/s]"
     ]
    },
    {
     "name": "stdout",
     "output_type": "stream",
     "text": [
      "All done!\n"
     ]
    },
    {
     "name": "stderr",
     "output_type": "stream",
     "text": [
      "\n"
     ]
    }
   ],
   "source": [
    "def increment_progress(steps):\n",
    "    global progress_variable\n",
    "    progress_variable += steps\n",
    "    progress_bar.update(steps)\n",
    "\n",
    "cir_combinations = list(itertools.combinations(cir_events, 1))\n",
    "cme_combinations = list(itertools.combinations(cme_events, 1))\n",
    "idk_combinations = list(itertools.combinations(idk_events, 1))\n",
    "\n",
    "top_k_results = []\n",
    "\n",
    "k_results = 5\n",
    "\n",
    "iteration = 1\n",
    "# approximate count of interation needed\n",
    "all_iterations = len(cir_events) * len(cme_events) * len(idk_events) * len(cir_events) * len(cme_events) * len(idk_events) / 2\n",
    "progress_bar = tqdm(total=all_iterations)\n",
    "progress_variable = 0\n",
    "\n",
    "for cir_val in cir_combinations:\n",
    "    for cme_val in cme_combinations:\n",
    "        for idk_val in idk_combinations:\n",
    "            val_set = [cir_val[0], cme_val[0], idk_val[0]]\n",
    "            \n",
    "            for cir_test in cir_combinations:\n",
    "                for cme_test in cme_combinations:\n",
    "                    for idk_test in idk_combinations:\n",
    "                        test_set = [cir_test[0], cme_test[0], idk_test[0]]\n",
    "                        \n",
    "                        if val_set < test_set:\n",
    "                            val_diversity, test_diversity, difference = find_k_fold(val_set, test_set)\n",
    "                            increment_progress(1)\n",
    "                            \n",
    "                            top_k_results.append((val_set, test_set, difference))\n",
    "                            top_k_results = sorted(top_k_results, key=lambda x: x[2])[:k_results]\n",
    "\n",
    "progress_bar.close()\n",
    "print(\"All done!\")\n"
   ]
  },
  {
   "cell_type": "code",
   "execution_count": 10,
   "metadata": {},
   "outputs": [
    {
     "name": "stdout",
     "output_type": "stream",
     "text": [
      "Pair 1:\n",
      "  Validation Set: [4, 21, 11]\n",
      "  Test Set: [8, 14, 28]\n",
      "  Validation diversity: 12172.994016663155\n",
      "  Test diversity: 12172.994067932721\n",
      "  Difference between val and test: 4.2117464715829556e-07\n",
      "--------------------------------------------------\n",
      "Pair 2:\n",
      "  Validation Set: [22, 19, 28]\n",
      "  Test Set: [25, 21, 1]\n",
      "  Validation diversity: 11300.068263784347\n",
      "  Test diversity: 11300.065832367618\n",
      "  Difference between val and test: 2.1516832219958815e-05\n",
      "--------------------------------------------------\n",
      "Pair 3:\n",
      "  Validation Set: [4, 31, 1]\n",
      "  Test Set: [34, 15, 28]\n",
      "  Validation diversity: 12426.595099787635\n",
      "  Test diversity: 12426.568826186029\n",
      "  Difference between val and test: 0.00021143041513482785\n",
      "--------------------------------------------------\n",
      "Pair 4:\n",
      "  Validation Set: [7, 15, 13]\n",
      "  Test Set: [35, 21, 1]\n",
      "  Validation diversity: 10472.18861848962\n",
      "  Test diversity: 10472.245269805137\n",
      "  Difference between val and test: 0.0005409692050051262\n",
      "--------------------------------------------------\n",
      "Pair 5:\n",
      "  Validation Set: [4, 30, 11]\n",
      "  Test Set: [10, 30, 28]\n",
      "  Validation diversity: 18350.236793180822\n",
      "  Test diversity: 18350.360970677084\n",
      "  Difference between val and test: 0.000676707868478843\n",
      "--------------------------------------------------\n"
     ]
    }
   ],
   "source": [
    "for idx, (best_val_set, best_test_set, min_difference) in enumerate(top_k_results, 1):\n",
    "    print(f\"Pair {idx}:\")\n",
    "    print(\"  Validation Set:\", best_val_set)\n",
    "    print(\"  Test Set:\", best_test_set)\n",
    "    \n",
    "    val_diversity, test_diversity, difference = find_k_fold(best_val_set, best_test_set)\n",
    "    print(\"  Validation diversity:\", val_diversity)\n",
    "    print(\"  Test diversity:\", test_diversity)\n",
    "    print(\"  Difference between val and test:\", difference)\n",
    "    print(\"--\"*25)"
   ]
  },
  {
   "cell_type": "code",
   "execution_count": null,
   "metadata": {},
   "outputs": [],
   "source": []
  }
 ],
 "metadata": {
  "kernelspec": {
   "display_name": ".venv",
   "language": "python",
   "name": "python3"
  },
  "language_info": {
   "codemirror_mode": {
    "name": "ipython",
    "version": 3
   },
   "file_extension": ".py",
   "mimetype": "text/x-python",
   "name": "python",
   "nbconvert_exporter": "python",
   "pygments_lexer": "ipython3",
   "version": "3.9.13"
  }
 },
 "nbformat": 4,
 "nbformat_minor": 2
}
