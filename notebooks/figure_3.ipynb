{
 "cells": [
  {
   "cell_type": "markdown",
   "metadata": {},
   "source": [
    "## Figure 3 reproduction\n",
    "\n",
    "In this notebook, we will reproduce Figure 3, Solar Winds medians.  \n",
    "   \n",
    "<img src=\"paper_figures/sw_speeds.png\" alt=\"Figure 3\" width=\"800\"/>"
   ]
  },
  {
   "cell_type": "code",
   "execution_count": 3,
   "metadata": {},
   "outputs": [],
   "source": [
    "import re\n",
    "import pandas as pd\n",
    "import numpy as np\n",
    "import matplotlib.pyplot as plt\n",
    "import os\n",
    "import seaborn as sns\n",
    "import plotly.express as px\n",
    "import plotly.graph_objects as go"
   ]
  },
  {
   "cell_type": "code",
   "execution_count": 4,
   "metadata": {},
   "outputs": [],
   "source": [
    "def extract_number(filename):\n",
    "    match = re.search(r'(\\d+)', filename)\n",
    "    if match:\n",
    "        return int(match.group(1))\n",
    "    return float('inf')  "
   ]
  },
  {
   "cell_type": "code",
   "execution_count": 6,
   "metadata": {},
   "outputs": [],
   "source": [
    "folder_path = '../data/MESWE-38-processed'\n",
    "file_names = [file_name for file_name in os.listdir(folder_path) if file_name.endswith('.csv')]\n",
    "sorted_csv_file_names = sorted(file_names, key=extract_number)\n",
    "\n",
    "plot_data = []\n",
    "attribute = \"V_p\"\n",
    "medians = {}\n",
    "\n",
    "for csv_file_path in sorted_csv_file_names:\n",
    "\n",
    "    df = pd.read_csv(folder_path + \"/\" + csv_file_path)\n",
    "    vpmean = df[\"V_p\"].median()\n",
    "\n",
    "    event_num = csv_file_path.replace(\".csv\", \"\").split(\"_\")[2]\n",
    "    event_name = f\"Event {event_num}\"\n",
    "\n",
    "    medians[event_name] = float(vpmean)\n",
    "    \n",
    "    df['Filename'] = event_name\n",
    "    plot_data.append(df[[attribute, 'Filename']])\n",
    "\n",
    "final_df = pd.concat(plot_data)\n"
   ]
  },
  {
   "cell_type": "code",
   "execution_count": 8,
   "metadata": {},
   "outputs": [
    {
     "data": {
      "text/plain": [
       "{'Event 1': 496.0,\n",
       " 'Event 4': 414.0,\n",
       " 'Event 5': 553.5,\n",
       " 'Event 6': 559.5,\n",
       " 'Event 7': 415.0,\n",
       " 'Event 8': 481.0,\n",
       " 'Event 9': 496.0,\n",
       " 'Event 10': 437.0,\n",
       " 'Event 11': 442.0,\n",
       " 'Event 12': 494.0,\n",
       " 'Event 13': 535.5,\n",
       " 'Event 14': 379.0,\n",
       " 'Event 15': 427.0,\n",
       " 'Event 17': 450.0,\n",
       " 'Event 19': 592.0,\n",
       " 'Event 21': 590.0,\n",
       " 'Event 22': 500.0,\n",
       " 'Event 23': 436.0,\n",
       " 'Event 25': 564.0,\n",
       " 'Event 28': 492.0,\n",
       " 'Event 29': 506.0,\n",
       " 'Event 30': 660.0,\n",
       " 'Event 31': 631.0,\n",
       " 'Event 32': 477.0,\n",
       " 'Event 33': 504.0,\n",
       " 'Event 34': 375.0,\n",
       " 'Event 35': 539.0,\n",
       " 'Event 36': 495.5,\n",
       " 'Event 37': 543.0,\n",
       " 'Event 38': 482.0}"
      ]
     },
     "execution_count": 8,
     "metadata": {},
     "output_type": "execute_result"
    }
   ],
   "source": [
    "medians"
   ]
  },
  {
   "cell_type": "code",
   "execution_count": 9,
   "metadata": {},
   "outputs": [
    {
     "data": {
      "application/vnd.plotly.v1+json": {
       "config": {
        "plotlyServerURL": "https://plot.ly"
       },
       "data": [
        {
         "marker": {
          "color": [
           "#3B8BC3",
           "#3B8BC3",
           "#3B8BC3",
           "#3B8BC3",
           "#3B8BC3",
           "#3B8BC3",
           "#3B8BC3",
           "#3B8BC3",
           "#3B8BC3",
           "#3B8BC3",
           "#3B8BC3",
           "#3B8BC3",
           "#3B8BC3",
           "#3B8BC3",
           "#3B8BC3",
           "#3B8BC3",
           "#3B8BC3",
           "#3B8BC3",
           "#3B8BC3",
           "#3B8BC3",
           "#3B8BC3",
           "#3B8BC3",
           "#3B8BC3",
           "#3B8BC3",
           "#3B8BC3",
           "#3B8BC3",
           "#3B8BC3",
           "#3B8BC3",
           "#3B8BC3",
           "#3B8BC3",
           "#3B8BC3"
          ]
         },
         "name": "Values",
         "text": [
          "496.0",
          "414.0",
          "553.5",
          "559.5",
          "415.0",
          "481.0",
          "496.0",
          "437.0",
          "442.0",
          "494.0",
          "535.5",
          "379.0",
          "427.0",
          "450.0",
          "592.0",
          "590.0",
          "500.0",
          "436.0",
          "564.0",
          "492.0",
          "506.0",
          "660.0",
          "631.0",
          "477.0",
          "504.0",
          "375.0",
          "539.0",
          "495.5",
          "543.0",
          "482.0"
         ],
         "textposition": "auto",
         "type": "bar",
         "x": [
          "Event 1",
          "Event 4",
          "Event 5",
          "Event 6",
          "Event 7",
          "Event 8",
          "Event 9",
          "Event 10",
          "Event 11",
          "Event 12",
          "Event 13",
          "Event 14",
          "Event 15",
          "Event 17",
          "Event 19",
          "Event 21",
          "Event 22",
          "Event 23",
          "Event 25",
          "Event 28",
          "Event 29",
          "Event 30",
          "Event 31",
          "Event 32",
          "Event 33",
          "Event 34",
          "Event 35",
          "Event 36",
          "Event 37",
          "Event 38"
         ],
         "y": [
          496,
          414,
          553.5,
          559.5,
          415,
          481,
          496,
          437,
          442,
          494,
          535.5,
          379,
          427,
          450,
          592,
          590,
          500,
          436,
          564,
          492,
          506,
          660,
          631,
          477,
          504,
          375,
          539,
          495.5,
          543,
          482
         ]
        }
       ],
       "layout": {
        "annotations": [
         {
          "font": {
           "color": "Orange"
          },
          "showarrow": false,
          "text": "Mean:498.87",
          "x": 29,
          "xshift": -10,
          "y": 498.8666666666667,
          "yshift": 50
         }
        ],
        "font": {
         "size": 15
        },
        "shapes": [
         {
          "line": {
           "color": "Orange",
           "dash": "dash",
           "width": 2
          },
          "type": "line",
          "x0": -0.5,
          "x1": 29.5,
          "y0": 498.8666666666667,
          "y1": 498.8666666666667
         }
        ],
        "template": {
         "data": {
          "bar": [
           {
            "error_x": {
             "color": "#2a3f5f"
            },
            "error_y": {
             "color": "#2a3f5f"
            },
            "marker": {
             "line": {
              "color": "#E5ECF6",
              "width": 0.5
             },
             "pattern": {
              "fillmode": "overlay",
              "size": 10,
              "solidity": 0.2
             }
            },
            "type": "bar"
           }
          ],
          "barpolar": [
           {
            "marker": {
             "line": {
              "color": "#E5ECF6",
              "width": 0.5
             },
             "pattern": {
              "fillmode": "overlay",
              "size": 10,
              "solidity": 0.2
             }
            },
            "type": "barpolar"
           }
          ],
          "carpet": [
           {
            "aaxis": {
             "endlinecolor": "#2a3f5f",
             "gridcolor": "white",
             "linecolor": "white",
             "minorgridcolor": "white",
             "startlinecolor": "#2a3f5f"
            },
            "baxis": {
             "endlinecolor": "#2a3f5f",
             "gridcolor": "white",
             "linecolor": "white",
             "minorgridcolor": "white",
             "startlinecolor": "#2a3f5f"
            },
            "type": "carpet"
           }
          ],
          "choropleth": [
           {
            "colorbar": {
             "outlinewidth": 0,
             "ticks": ""
            },
            "type": "choropleth"
           }
          ],
          "contour": [
           {
            "colorbar": {
             "outlinewidth": 0,
             "ticks": ""
            },
            "colorscale": [
             [
              0,
              "#0d0887"
             ],
             [
              0.1111111111111111,
              "#46039f"
             ],
             [
              0.2222222222222222,
              "#7201a8"
             ],
             [
              0.3333333333333333,
              "#9c179e"
             ],
             [
              0.4444444444444444,
              "#bd3786"
             ],
             [
              0.5555555555555556,
              "#d8576b"
             ],
             [
              0.6666666666666666,
              "#ed7953"
             ],
             [
              0.7777777777777778,
              "#fb9f3a"
             ],
             [
              0.8888888888888888,
              "#fdca26"
             ],
             [
              1,
              "#f0f921"
             ]
            ],
            "type": "contour"
           }
          ],
          "contourcarpet": [
           {
            "colorbar": {
             "outlinewidth": 0,
             "ticks": ""
            },
            "type": "contourcarpet"
           }
          ],
          "heatmap": [
           {
            "colorbar": {
             "outlinewidth": 0,
             "ticks": ""
            },
            "colorscale": [
             [
              0,
              "#0d0887"
             ],
             [
              0.1111111111111111,
              "#46039f"
             ],
             [
              0.2222222222222222,
              "#7201a8"
             ],
             [
              0.3333333333333333,
              "#9c179e"
             ],
             [
              0.4444444444444444,
              "#bd3786"
             ],
             [
              0.5555555555555556,
              "#d8576b"
             ],
             [
              0.6666666666666666,
              "#ed7953"
             ],
             [
              0.7777777777777778,
              "#fb9f3a"
             ],
             [
              0.8888888888888888,
              "#fdca26"
             ],
             [
              1,
              "#f0f921"
             ]
            ],
            "type": "heatmap"
           }
          ],
          "histogram": [
           {
            "marker": {
             "pattern": {
              "fillmode": "overlay",
              "size": 10,
              "solidity": 0.2
             }
            },
            "type": "histogram"
           }
          ],
          "histogram2d": [
           {
            "colorbar": {
             "outlinewidth": 0,
             "ticks": ""
            },
            "colorscale": [
             [
              0,
              "#0d0887"
             ],
             [
              0.1111111111111111,
              "#46039f"
             ],
             [
              0.2222222222222222,
              "#7201a8"
             ],
             [
              0.3333333333333333,
              "#9c179e"
             ],
             [
              0.4444444444444444,
              "#bd3786"
             ],
             [
              0.5555555555555556,
              "#d8576b"
             ],
             [
              0.6666666666666666,
              "#ed7953"
             ],
             [
              0.7777777777777778,
              "#fb9f3a"
             ],
             [
              0.8888888888888888,
              "#fdca26"
             ],
             [
              1,
              "#f0f921"
             ]
            ],
            "type": "histogram2d"
           }
          ],
          "histogram2dcontour": [
           {
            "colorbar": {
             "outlinewidth": 0,
             "ticks": ""
            },
            "colorscale": [
             [
              0,
              "#0d0887"
             ],
             [
              0.1111111111111111,
              "#46039f"
             ],
             [
              0.2222222222222222,
              "#7201a8"
             ],
             [
              0.3333333333333333,
              "#9c179e"
             ],
             [
              0.4444444444444444,
              "#bd3786"
             ],
             [
              0.5555555555555556,
              "#d8576b"
             ],
             [
              0.6666666666666666,
              "#ed7953"
             ],
             [
              0.7777777777777778,
              "#fb9f3a"
             ],
             [
              0.8888888888888888,
              "#fdca26"
             ],
             [
              1,
              "#f0f921"
             ]
            ],
            "type": "histogram2dcontour"
           }
          ],
          "mesh3d": [
           {
            "colorbar": {
             "outlinewidth": 0,
             "ticks": ""
            },
            "type": "mesh3d"
           }
          ],
          "parcoords": [
           {
            "line": {
             "colorbar": {
              "outlinewidth": 0,
              "ticks": ""
             }
            },
            "type": "parcoords"
           }
          ],
          "pie": [
           {
            "automargin": true,
            "type": "pie"
           }
          ],
          "scatter": [
           {
            "fillpattern": {
             "fillmode": "overlay",
             "size": 10,
             "solidity": 0.2
            },
            "type": "scatter"
           }
          ],
          "scatter3d": [
           {
            "line": {
             "colorbar": {
              "outlinewidth": 0,
              "ticks": ""
             }
            },
            "marker": {
             "colorbar": {
              "outlinewidth": 0,
              "ticks": ""
             }
            },
            "type": "scatter3d"
           }
          ],
          "scattercarpet": [
           {
            "marker": {
             "colorbar": {
              "outlinewidth": 0,
              "ticks": ""
             }
            },
            "type": "scattercarpet"
           }
          ],
          "scattergeo": [
           {
            "marker": {
             "colorbar": {
              "outlinewidth": 0,
              "ticks": ""
             }
            },
            "type": "scattergeo"
           }
          ],
          "scattergl": [
           {
            "marker": {
             "colorbar": {
              "outlinewidth": 0,
              "ticks": ""
             }
            },
            "type": "scattergl"
           }
          ],
          "scattermap": [
           {
            "marker": {
             "colorbar": {
              "outlinewidth": 0,
              "ticks": ""
             }
            },
            "type": "scattermap"
           }
          ],
          "scattermapbox": [
           {
            "marker": {
             "colorbar": {
              "outlinewidth": 0,
              "ticks": ""
             }
            },
            "type": "scattermapbox"
           }
          ],
          "scatterpolar": [
           {
            "marker": {
             "colorbar": {
              "outlinewidth": 0,
              "ticks": ""
             }
            },
            "type": "scatterpolar"
           }
          ],
          "scatterpolargl": [
           {
            "marker": {
             "colorbar": {
              "outlinewidth": 0,
              "ticks": ""
             }
            },
            "type": "scatterpolargl"
           }
          ],
          "scatterternary": [
           {
            "marker": {
             "colorbar": {
              "outlinewidth": 0,
              "ticks": ""
             }
            },
            "type": "scatterternary"
           }
          ],
          "surface": [
           {
            "colorbar": {
             "outlinewidth": 0,
             "ticks": ""
            },
            "colorscale": [
             [
              0,
              "#0d0887"
             ],
             [
              0.1111111111111111,
              "#46039f"
             ],
             [
              0.2222222222222222,
              "#7201a8"
             ],
             [
              0.3333333333333333,
              "#9c179e"
             ],
             [
              0.4444444444444444,
              "#bd3786"
             ],
             [
              0.5555555555555556,
              "#d8576b"
             ],
             [
              0.6666666666666666,
              "#ed7953"
             ],
             [
              0.7777777777777778,
              "#fb9f3a"
             ],
             [
              0.8888888888888888,
              "#fdca26"
             ],
             [
              1,
              "#f0f921"
             ]
            ],
            "type": "surface"
           }
          ],
          "table": [
           {
            "cells": {
             "fill": {
              "color": "#EBF0F8"
             },
             "line": {
              "color": "white"
             }
            },
            "header": {
             "fill": {
              "color": "#C8D4E3"
             },
             "line": {
              "color": "white"
             }
            },
            "type": "table"
           }
          ]
         },
         "layout": {
          "annotationdefaults": {
           "arrowcolor": "#2a3f5f",
           "arrowhead": 0,
           "arrowwidth": 1
          },
          "autotypenumbers": "strict",
          "coloraxis": {
           "colorbar": {
            "outlinewidth": 0,
            "ticks": ""
           }
          },
          "colorscale": {
           "diverging": [
            [
             0,
             "#8e0152"
            ],
            [
             0.1,
             "#c51b7d"
            ],
            [
             0.2,
             "#de77ae"
            ],
            [
             0.3,
             "#f1b6da"
            ],
            [
             0.4,
             "#fde0ef"
            ],
            [
             0.5,
             "#f7f7f7"
            ],
            [
             0.6,
             "#e6f5d0"
            ],
            [
             0.7,
             "#b8e186"
            ],
            [
             0.8,
             "#7fbc41"
            ],
            [
             0.9,
             "#4d9221"
            ],
            [
             1,
             "#276419"
            ]
           ],
           "sequential": [
            [
             0,
             "#0d0887"
            ],
            [
             0.1111111111111111,
             "#46039f"
            ],
            [
             0.2222222222222222,
             "#7201a8"
            ],
            [
             0.3333333333333333,
             "#9c179e"
            ],
            [
             0.4444444444444444,
             "#bd3786"
            ],
            [
             0.5555555555555556,
             "#d8576b"
            ],
            [
             0.6666666666666666,
             "#ed7953"
            ],
            [
             0.7777777777777778,
             "#fb9f3a"
            ],
            [
             0.8888888888888888,
             "#fdca26"
            ],
            [
             1,
             "#f0f921"
            ]
           ],
           "sequentialminus": [
            [
             0,
             "#0d0887"
            ],
            [
             0.1111111111111111,
             "#46039f"
            ],
            [
             0.2222222222222222,
             "#7201a8"
            ],
            [
             0.3333333333333333,
             "#9c179e"
            ],
            [
             0.4444444444444444,
             "#bd3786"
            ],
            [
             0.5555555555555556,
             "#d8576b"
            ],
            [
             0.6666666666666666,
             "#ed7953"
            ],
            [
             0.7777777777777778,
             "#fb9f3a"
            ],
            [
             0.8888888888888888,
             "#fdca26"
            ],
            [
             1,
             "#f0f921"
            ]
           ]
          },
          "colorway": [
           "#636efa",
           "#EF553B",
           "#00cc96",
           "#ab63fa",
           "#FFA15A",
           "#19d3f3",
           "#FF6692",
           "#B6E880",
           "#FF97FF",
           "#FECB52"
          ],
          "font": {
           "color": "#2a3f5f"
          },
          "geo": {
           "bgcolor": "white",
           "lakecolor": "white",
           "landcolor": "#E5ECF6",
           "showlakes": true,
           "showland": true,
           "subunitcolor": "white"
          },
          "hoverlabel": {
           "align": "left"
          },
          "hovermode": "closest",
          "mapbox": {
           "style": "light"
          },
          "paper_bgcolor": "white",
          "plot_bgcolor": "#E5ECF6",
          "polar": {
           "angularaxis": {
            "gridcolor": "white",
            "linecolor": "white",
            "ticks": ""
           },
           "bgcolor": "#E5ECF6",
           "radialaxis": {
            "gridcolor": "white",
            "linecolor": "white",
            "ticks": ""
           }
          },
          "scene": {
           "xaxis": {
            "backgroundcolor": "#E5ECF6",
            "gridcolor": "white",
            "gridwidth": 2,
            "linecolor": "white",
            "showbackground": true,
            "ticks": "",
            "zerolinecolor": "white"
           },
           "yaxis": {
            "backgroundcolor": "#E5ECF6",
            "gridcolor": "white",
            "gridwidth": 2,
            "linecolor": "white",
            "showbackground": true,
            "ticks": "",
            "zerolinecolor": "white"
           },
           "zaxis": {
            "backgroundcolor": "#E5ECF6",
            "gridcolor": "white",
            "gridwidth": 2,
            "linecolor": "white",
            "showbackground": true,
            "ticks": "",
            "zerolinecolor": "white"
           }
          },
          "shapedefaults": {
           "line": {
            "color": "#2a3f5f"
           }
          },
          "ternary": {
           "aaxis": {
            "gridcolor": "white",
            "linecolor": "white",
            "ticks": ""
           },
           "baxis": {
            "gridcolor": "white",
            "linecolor": "white",
            "ticks": ""
           },
           "bgcolor": "#E5ECF6",
           "caxis": {
            "gridcolor": "white",
            "linecolor": "white",
            "ticks": ""
           }
          },
          "title": {
           "x": 0.05
          },
          "xaxis": {
           "automargin": true,
           "gridcolor": "white",
           "linecolor": "white",
           "ticks": "",
           "title": {
            "standoff": 15
           },
           "zerolinecolor": "white",
           "zerolinewidth": 2
          },
          "yaxis": {
           "automargin": true,
           "gridcolor": "white",
           "linecolor": "white",
           "ticks": "",
           "title": {
            "standoff": 15
           },
           "zerolinecolor": "white",
           "zerolinewidth": 2
          }
         }
        },
        "title": {
         "font": {
          "size": 30
         },
         "text": "Median values of solar wind speed for each extreme SWE event"
        },
        "xaxis": {
         "tickangle": 90
        },
        "yaxis": {
         "title": {
          "text": "median solar wind speed [km/s]"
         }
        }
       }
      }
     },
     "metadata": {},
     "output_type": "display_data"
    }
   ],
   "source": [
    "files = list(medians.keys())\n",
    "values = list(medians.values())\n",
    "\n",
    "mean_value = np.mean(values)\n",
    "\n",
    "blues = ['#3B8BC3'] * 31\n",
    "fig = go.Figure(data=[go.Bar(\n",
    "    x=files, \n",
    "    y=values, \n",
    "    text=values,            \n",
    "    textposition='auto',    \n",
    "    name='Values',\n",
    "    marker_color=blues\n",
    ")])\n",
    "\n",
    "fig.add_shape(\n",
    "    type=\"line\",\n",
    "    x0=-0.5, y0=mean_value, x1=len(files)-0.5, y1=mean_value,\n",
    "    line=dict(color=\"Orange\", width=2, dash=\"dash\"),\n",
    ")\n",
    "\n",
    "fig.add_annotation(\n",
    "    x=len(files)-1, y=mean_value,\n",
    "    text=f\"Mean:{mean_value:.2f}\",\n",
    "    showarrow=False,\n",
    "    yshift=50,\n",
    "    xshift=-10,\n",
    "    font={\n",
    "        \"color\": \"Orange\"\n",
    "    }\n",
    ")\n",
    "\n",
    "fig.update_xaxes(tickangle=90)\n",
    "fig.update_yaxes(title_text=\"median solar wind speed [km/s]\")\n",
    "fig.update_layout(\n",
    "    font=dict(size=15),\n",
    "    title=dict(text=\"Median values of solar wind speed for each extreme SWE event\", font=dict(size=30))\n",
    ")\n",
    "\n",
    "fig.show()\n"
   ]
  },
  {
   "cell_type": "code",
   "execution_count": null,
   "metadata": {},
   "outputs": [],
   "source": []
  }
 ],
 "metadata": {
  "kernelspec": {
   "display_name": ".venv",
   "language": "python",
   "name": "python3"
  },
  "language_info": {
   "codemirror_mode": {
    "name": "ipython",
    "version": 3
   },
   "file_extension": ".py",
   "mimetype": "text/x-python",
   "name": "python",
   "nbconvert_exporter": "python",
   "pygments_lexer": "ipython3",
   "version": "3.9.13"
  }
 },
 "nbformat": 4,
 "nbformat_minor": 2
}
